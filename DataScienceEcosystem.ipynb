{
 "cells": [
  {
   "cell_type": "markdown",
   "id": "5e735912-fd07-4561-a2e1-512a998b8a22",
   "metadata": {},
   "source": [
    "### Data Science Tools and Ecosystem"
   ]
  },
  {
   "cell_type": "markdown",
   "id": "bd0e85d3-7e78-4838-a5ef-8c4462452b00",
   "metadata": {},
   "source": [
    "In this notebook, Data Science Tools and Ecosystem are summarized."
   ]
  },
  {
   "cell_type": "markdown",
   "id": "6d3feddc-ed19-41e0-abe6-22b349a4cd12",
   "metadata": {},
   "source": [
    "Some of the popular languages that Data Scientists use are:\n",
    "1. Python\n",
    "2. R\n",
    "3. Java"
   ]
  },
  {
   "cell_type": "markdown",
   "id": "f4acc7fe-e2c4-4ca3-a119-0c55e7001a7e",
   "metadata": {},
   "source": [
    "Some of the commonly used libraries used by Data Scientists include:\n",
    "1. Pandas\n",
    "2. Numpy\n",
    "3. TensorFlow"
   ]
  },
  {
   "cell_type": "markdown",
   "id": "f5f0df96-c0d1-4030-a5c6-72861b01319c",
   "metadata": {},
   "source": [
    "|Data Science Tools|\n",
    "|:---------:|\n",
    "|  MATLAB  |\n",
    "|  Jupyter Notebook |\n",
    "|  SAS  |"
   ]
  },
  {
   "cell_type": "markdown",
   "id": "fcc47de5-c459-4c1f-af36-4ed1c8e1f4b5",
   "metadata": {},
   "source": [
    "### Below are a few examples of evaluating arithmetic expressions in Python."
   ]
  },
  {
   "cell_type": "code",
   "execution_count": 2,
   "id": "b910ce94-9f7c-4457-92c6-5a593244f324",
   "metadata": {
    "tags": []
   },
   "outputs": [
    {
     "data": {
      "text/plain": [
       "17"
      ]
     },
     "execution_count": 2,
     "metadata": {},
     "output_type": "execute_result"
    }
   ],
   "source": [
    "#This a simple arithmetic expression to mutiply then add integers\n",
    "(3*4)+5"
   ]
  },
  {
   "cell_type": "code",
   "execution_count": 5,
   "id": "2ac7fd96-e391-4050-9db2-398267ffbb5a",
   "metadata": {
    "tags": []
   },
   "outputs": [
    {
     "data": {
      "text/plain": [
       "3.3333333333333335"
      ]
     },
     "execution_count": 5,
     "metadata": {},
     "output_type": "execute_result"
    }
   ],
   "source": [
    "#This will convert 200 minutes to hours by diving by 60\n",
    "200/60"
   ]
  },
  {
   "cell_type": "markdown",
   "id": "a4e57cb9-0373-4e13-a3c8-689a28a66b60",
   "metadata": {},
   "source": [
    "**Objectives:**\n",
    " - Applications of data science in business\n",
    " - Fundanmentals of programming with Python\n",
    " - Gain degree credits for master of data science in the Ball State University"
   ]
  },
  {
   "cell_type": "markdown",
   "id": "1507d7f7-90e5-4a27-b486-0c657b55dc7c",
   "metadata": {},
   "source": [
    "## Author\n",
    "Xuan Hoang"
   ]
  },
  {
   "cell_type": "code",
   "execution_count": null,
   "id": "899d71d9-2a57-4609-bf69-35feb3ee64dc",
   "metadata": {},
   "outputs": [],
   "source": []
  }
 ],
 "metadata": {
  "kernelspec": {
   "display_name": "Python",
   "language": "python",
   "name": "conda-env-python-py"
  },
  "language_info": {
   "codemirror_mode": {
    "name": "ipython",
    "version": 3
   },
   "file_extension": ".py",
   "mimetype": "text/x-python",
   "name": "python",
   "nbconvert_exporter": "python",
   "pygments_lexer": "ipython3",
   "version": "3.7.12"
  }
 },
 "nbformat": 4,
 "nbformat_minor": 5
}
